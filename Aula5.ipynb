{
 "cells": [
  {
   "cell_type": "code",
   "execution_count": 8,
   "id": "76c11323",
   "metadata": {},
   "outputs": [
    {
     "name": "stdout",
     "output_type": "stream",
     "text": [
      "A sentença é verdadeira\n"
     ]
    }
   ],
   "source": [
    "if 5>2:\n",
    "    print(\"A sentença é verdadeira\")"
   ]
  },
  {
   "cell_type": "code",
   "execution_count": 9,
   "id": "180c9f91",
   "metadata": {},
   "outputs": [
    {
     "name": "stdout",
     "output_type": "stream",
     "text": [
      "A sentença é falsa\n"
     ]
    }
   ],
   "source": [
    "if 5< 2:\n",
    "    print(\"A sentença é verdadeira\")\n",
    "else:\n",
    "    print(\"A sentença é falsa\")"
   ]
  },
  {
   "cell_type": "code",
   "execution_count": 10,
   "id": "febbe145",
   "metadata": {},
   "outputs": [
    {
     "name": "stdout",
     "output_type": "stream",
     "text": [
      "A sentença é falsa\n"
     ]
    }
   ],
   "source": [
    "dia = \"Terça\"\n",
    "if dia == \"Segunda\":\n",
    "    print(\"A sentença é verdadeira\")\n",
    "else:\n",
    "    print(\"A sentença é falsa\")"
   ]
  },
  {
   "cell_type": "code",
   "execution_count": 11,
   "id": "4187e1aa",
   "metadata": {},
   "outputs": [
    {
     "name": "stdout",
     "output_type": "stream",
     "text": [
      "Hoje vai chover\n"
     ]
    }
   ],
   "source": [
    "if dia == \"Segunda\": \n",
    "    print(\"Hoje fará sol\")\n",
    "else: \n",
    "    print (\"Hoje vai chover\")"
   ]
  },
  {
   "cell_type": "code",
   "execution_count": 12,
   "id": "42fb0ae2",
   "metadata": {},
   "outputs": [
    {
     "name": "stdout",
     "output_type": "stream",
     "text": [
      "Hoje vai chover\n"
     ]
    }
   ],
   "source": [
    "if dia == \"Segunda \": \n",
    "    print(\"Hoje fará sol\")\n",
    "elif dia == \"Terça\": \n",
    "    print(\"Hoje vai chover\")\n",
    "else: \n",
    "    print(\"Sem previsão do tempo para o dia selecionado\")"
   ]
  },
  {
   "cell_type": "code",
   "execution_count": 13,
   "id": "f12f7847",
   "metadata": {},
   "outputs": [
    {
     "data": {
      "text/plain": [
       "True"
      ]
     },
     "execution_count": 13,
     "metadata": {},
     "output_type": "execute_result"
    }
   ],
   "source": [
    "6 > 3 "
   ]
  },
  {
   "cell_type": "code",
   "execution_count": 14,
   "id": "9355c5ae",
   "metadata": {},
   "outputs": [
    {
     "data": {
      "text/plain": [
       "False"
      ]
     },
     "execution_count": 14,
     "metadata": {},
     "output_type": "execute_result"
    }
   ],
   "source": [
    "3 > 7"
   ]
  },
  {
   "cell_type": "code",
   "execution_count": 15,
   "id": "c76ea04b",
   "metadata": {},
   "outputs": [
    {
     "data": {
      "text/plain": [
       "True"
      ]
     },
     "execution_count": 15,
     "metadata": {},
     "output_type": "execute_result"
    }
   ],
   "source": [
    "4 < 8"
   ]
  },
  {
   "cell_type": "code",
   "execution_count": 16,
   "id": "2492d3bf",
   "metadata": {},
   "outputs": [
    {
     "data": {
      "text/plain": [
       "True"
      ]
     },
     "execution_count": 16,
     "metadata": {},
     "output_type": "execute_result"
    }
   ],
   "source": [
    "4 >= 4"
   ]
  },
  {
   "cell_type": "code",
   "execution_count": 17,
   "id": "a5ebb0c2",
   "metadata": {},
   "outputs": [
    {
     "name": "stdout",
     "output_type": "stream",
     "text": [
      "Testando Python\n"
     ]
    }
   ],
   "source": [
    "if 5 == 5:\n",
    "    print(\"Testando Python\")"
   ]
  },
  {
   "cell_type": "code",
   "execution_count": 18,
   "id": "4932b5fb",
   "metadata": {},
   "outputs": [
    {
     "name": "stdout",
     "output_type": "stream",
     "text": [
      "Parece que Python funciona\n"
     ]
    }
   ],
   "source": [
    "if True: \n",
    "    print(\"Parece que Python funciona\")"
   ]
  },
  {
   "cell_type": "code",
   "execution_count": 19,
   "id": "2f967f44",
   "metadata": {},
   "outputs": [
    {
     "ename": "SyntaxError",
     "evalue": "invalid syntax (1590984517.py, line 1)",
     "output_type": "error",
     "traceback": [
      "\u001b[1;36m  File \u001b[1;32m\"C:\\Users\\Silvia\\AppData\\Local\\Temp\\ipykernel_14660\\1590984517.py\"\u001b[1;36m, line \u001b[1;32m1\u001b[0m\n\u001b[1;33m    if 4 > 3\u001b[0m\n\u001b[1;37m            ^\u001b[0m\n\u001b[1;31mSyntaxError\u001b[0m\u001b[1;31m:\u001b[0m invalid syntax\n"
     ]
    }
   ],
   "source": [
    "if 4 > 3\n",
    "    print(\"Tudo funciona\") "
   ]
  },
  {
   "cell_type": "code",
   "execution_count": null,
   "id": "cfb7720c",
   "metadata": {},
   "outputs": [],
   "source": [
    "if 4 > 3:\n",
    "    print(\"Tudo funciona\") "
   ]
  },
  {
   "cell_type": "code",
   "execution_count": null,
   "id": "9bc469ae",
   "metadata": {},
   "outputs": [],
   "source": [
    "idade = 18\n",
    "if idade > 17: \n",
    "    print(\"Você pode dirigir\")"
   ]
  },
  {
   "cell_type": "code",
   "execution_count": null,
   "id": "11f53068",
   "metadata": {},
   "outputs": [],
   "source": [
    "nome =\"Bob\"\n",
    "if idade > 13: \n",
    "    if nome == \"Bob\": \n",
    "        print (\"Ok Bob, vocÊ está autorizado a entrar\")\n",
    "    else: \n",
    "        print(\"Desculpe, mas você não pode entrar\")"
   ]
  },
  {
   "cell_type": "code",
   "execution_count": null,
   "id": "719f9042",
   "metadata": {},
   "outputs": [],
   "source": [
    "idade = 13\n",
    "nome = \"Bob\"\n",
    "if idade >= 13 and nome == \"Bob\": \n",
    "    print(\"Ok Bob, você está altorizado a entrar\")"
   ]
  },
  {
   "cell_type": "code",
   "execution_count": null,
   "id": "cd764d6b",
   "metadata": {},
   "outputs": [],
   "source": [
    "idade = 12\n",
    "nome = \"Bob\"\n",
    "if (idade >= 13) or (nome == \"Bob\"): \n",
    "    print (\"OK Bob, você está altorizado de entrar\")"
   ]
  },
  {
   "cell_type": "code",
   "execution_count": null,
   "id": "ba010816",
   "metadata": {},
   "outputs": [],
   "source": [
    "idade = 18 \n",
    "nome = \"Bob\"\n",
    "if idade > 17: \n",
    "    print(\"Você pode dirigir\")"
   ]
  },
  {
   "cell_type": "code",
   "execution_count": null,
   "id": "19aafca7",
   "metadata": {},
   "outputs": [],
   "source": [
    "idade = 18 \n",
    "if idade > 17 and nome == \"Bob\": \n",
    "    print(\"Autorizado\")"
   ]
  },
  {
   "cell_type": "code",
   "execution_count": null,
   "id": "935ab9d1",
   "metadata": {},
   "outputs": [],
   "source": [
    "numero = 4 \n",
    "if (numero> 2) and ( numero % 2 == 0): \n",
    "    print (\"Isso está sendo impresso porque as duas condições são verdadeiras\")"
   ]
  },
  {
   "cell_type": "code",
   "execution_count": null,
   "id": "1e185761",
   "metadata": {},
   "outputs": [],
   "source": [
    "numero = 4\n",
    "if (numero > 5) and (numero % 2 == 0): \n",
    "    print (\"Isso está sendo impresso porque as duas condições são verdadeiras\")\n",
    "else: \n",
    "    print(\"Isso está sendo impresso porque uma das condições são verdadeiras\")"
   ]
  },
  {
   "cell_type": "code",
   "execution_count": null,
   "id": "7db107c6",
   "metadata": {},
   "outputs": [],
   "source": [
    "numero = 4\n",
    "if (numero > 5) or (numero % 2 == 0): \n",
    "    print(\"isso está sendo impresso porque uma das condições é verdadeira \")"
   ]
  },
  {
   "cell_type": "code",
   "execution_count": null,
   "id": "63db9aeb",
   "metadata": {},
   "outputs": [],
   "source": [
    "numero = 4\n",
    "if not (numero > 5) and (numero % 2 == 0):  \n",
    "    print(\"Isso está sendo impresso porque as duas condições são verdadeiras\")\n",
    "else: \n",
    "    print(\"Isso está sendo impresso porque uma das duas condições é falsa\")"
   ]
  },
  {
   "cell_type": "code",
   "execution_count": null,
   "id": "37647898",
   "metadata": {},
   "outputs": [],
   "source": [
    "numero = 4\n",
    "if (not(numero > 5) and (numero % 2 == 0 )) or (numero == 4): \n",
    "    print(\"Isso está sendo impresso porque as duas primeiras codições são verdadeiras ou a terceira é verdadeira \")"
   ]
  },
  {
   "cell_type": "code",
   "execution_count": null,
   "id": "bd2f26ef",
   "metadata": {},
   "outputs": [],
   "source": [
    "disciplina = \"Data Science\"\n",
    "nota_fiscal = 60 \n",
    "if disciplina == \"Data Science\" and nota_fiscal >=70: \n",
    "    print(\"Você foi aprovado\")\n",
    "else: \n",
    "    print(\"Lamento, acho que você precisa estudar mais\")"
   ]
  },
  {
   "cell_type": "code",
   "execution_count": null,
   "id": "fe909939",
   "metadata": {},
   "outputs": [],
   "source": [
    "disciplina = \"Data Science\"\n",
    "nota_final = 90\n",
    "semestre = 2 \n",
    "if disciplina == \"Data Science\" and nota_final >= 80 and semestre !=1:\n",
    "    print(\"Você foi aprovado em %s com média final %r\" %(disciplina,nota_final))\n",
    "else: \n",
    "    print(\"Lamento, acho que você precisa estudar mais\")"
   ]
  },
  {
   "cell_type": "code",
   "execution_count": null,
   "id": "fb191076",
   "metadata": {},
   "outputs": [],
   "source": [
    "tp = {2,3,4}\n",
    "for i in tp: \n",
    "    print(i)"
   ]
  },
  {
   "cell_type": "code",
   "execution_count": null,
   "id": "5f668aae",
   "metadata": {},
   "outputs": [],
   "source": [
    "ListaDeString= [\"Data\", \"Science\", \"Academy\"]\n",
    "for i in ListaDeString: \n",
    "    print(i)"
   ]
  },
  {
   "cell_type": "code",
   "execution_count": null,
   "id": "f46a8883",
   "metadata": {},
   "outputs": [],
   "source": [
    "for contador in range(0,5): \n",
    "    print(contador)"
   ]
  },
  {
   "cell_type": "code",
   "execution_count": null,
   "id": "6a95d271",
   "metadata": {},
   "outputs": [],
   "source": [
    "lísta = [1,2,3,4,5,6,7,8,9,10]\n",
    "for num in lísta: \n",
    "    if num % 2 == 0: \n",
    "        print(num)"
   ]
  },
  {
   "cell_type": "code",
   "execution_count": null,
   "id": "77100c87",
   "metadata": {},
   "outputs": [],
   "source": [
    "for i in range(0,101,2): \n",
    "    print(i)"
   ]
  },
  {
   "cell_type": "code",
   "execution_count": null,
   "id": "10de26d0",
   "metadata": {},
   "outputs": [],
   "source": [
    "for caracter in \"Python é uma linguagem de programção diverida\": \n",
    "    print(caracter)"
   ]
  },
  {
   "cell_type": "code",
   "execution_count": null,
   "id": "023085ab",
   "metadata": {},
   "outputs": [],
   "source": [
    "lísta1 = [0,1,2,3,4]\n",
    "lísta2 = [1,2,3]\n",
    "for elemento_lísta1 in lísta1: \n",
    "    for elemento_lísta2 in lísta2: \n",
    "        print(\"\\n\", elemento_lísta1 * elemento_lísta2)\n",
    "    print(\"----\")"
   ]
  },
  {
   "cell_type": "code",
   "execution_count": null,
   "id": "53863676",
   "metadata": {},
   "outputs": [],
   "source": [
    "lísta1 = [10,16,24,39,47]\n",
    "lísta2 = [32,89,47,76,12]\n",
    "for elemento_lísta1 in lísta1: \n",
    "    for elemento_lísta2 in lísta2: \n",
    "        if elemento_lísta1 == 47 and elemento_lísta2 == 47: \n",
    "            print(\"O número 47 foi encontrado as duas lístas\") "
   ]
  },
  {
   "cell_type": "code",
   "execution_count": null,
   "id": "f1cdc185",
   "metadata": {},
   "outputs": [],
   "source": [
    "lísta1 = [10,16,24,39,47]\n",
    "lísta2 = [32,89,47,76,12]\n",
    "soma  = 0\n",
    "for lísta in [lísta1, lísta2]: \n",
    "    for num in lísta: \n",
    "        if num % 2 == 0: \n",
    "            soma += num \n",
    "print(\"A soma dos números pares das duas lístas é igual a\", soma)"
   ]
  },
  {
   "cell_type": "code",
   "execution_count": null,
   "id": "2fd22dce",
   "metadata": {},
   "outputs": [],
   "source": [
    "lísta1 + lísta2"
   ]
  },
  {
   "cell_type": "code",
   "execution_count": null,
   "id": "c634ffc9",
   "metadata": {},
   "outputs": [],
   "source": [
    "lísta1 = [10,16,24,39,47]\n",
    "lísta2 = [32,89,47,76,12]\n",
    "soma = 0\n",
    "for num in lísta1 + lísta2: \n",
    "    if num % 2 == 0: \n",
    "         soma += num \n",
    "print(\"Soma dos valores pares\", soma)"
   ]
  },
  {
   "cell_type": "code",
   "execution_count": null,
   "id": "459ae7a3",
   "metadata": {},
   "outputs": [],
   "source": [
    "matriz = [[42,32,23,34], [100,215,114],[10.1,98.7,12.3]]\n",
    "maior_numero = 0\n",
    "for línha in matriz: \n",
    "    for num in línha: \n",
    "        if num > maior_numero: \n",
    "            maior_numero = num \n",
    "print(\"Maior número\", maior_numero)"
   ]
  },
  {
   "cell_type": "code",
   "execution_count": null,
   "id": "4288ca98",
   "metadata": {},
   "outputs": [],
   "source": [
    "dict = {\"k1\": \"Python\", \"k2\": \"R\", \"k3\": \"Scala\"}\n",
    "for item in dict: \n",
    "    print(item)"
   ]
  },
  {
   "cell_type": "code",
   "execution_count": null,
   "id": "f53a6215",
   "metadata": {},
   "outputs": [],
   "source": [
    "for k,v in dict.items(): \n",
    "    print(k,v)"
   ]
  },
  {
   "cell_type": "code",
   "execution_count": null,
   "id": "e6a1a593",
   "metadata": {},
   "outputs": [],
   "source": [
    "valor = 0\n",
    "while valor < 10: \n",
    "    print(valor)\n",
    "    valor = valor + 1"
   ]
  },
  {
   "cell_type": "code",
   "execution_count": null,
   "id": "db64434c",
   "metadata": {},
   "outputs": [],
   "source": [
    "valor = 11\n",
    "while valor < 10: \n",
    "    print (valor)\n",
    "    valor = valor + 1"
   ]
  },
  {
   "cell_type": "code",
   "execution_count": null,
   "id": "721a593a",
   "metadata": {},
   "outputs": [],
   "source": [
    "x = 0 \n",
    "while x < 10: \n",
    "    print(\" O valor de x nesta interação é: \", x)\n",
    "    print(\" x ainda é menor que 10, somando 1 a x \")\n",
    "    x +=1\n",
    "else: \n",
    "    print(\"Loop concluído: \")\n",
    "print(x)"
   ]
  },
  {
   "cell_type": "code",
   "execution_count": null,
   "id": "48243dfd",
   "metadata": {},
   "outputs": [],
   "source": [
    "valor = 0 \n",
    "while valor < 10: \n",
    "    if valor == 4:\n",
    "        break \n",
    "    else: \n",
    "        pass \n",
    "    print(valor)\n",
    "    valor = valor + 1"
   ]
  },
  {
   "cell_type": "code",
   "execution_count": null,
   "id": "d1908839",
   "metadata": {},
   "outputs": [],
   "source": [
    "for letra in \"Python é zzz incrível\": \n",
    "    if letra == \"z\": \n",
    "        continue \n",
    "    print(letra)"
   ]
  },
  {
   "cell_type": "code",
   "execution_count": 20,
   "id": "8f4a061d",
   "metadata": {},
   "outputs": [
    {
     "name": "stdout",
     "output_type": "stream",
     "text": [
      "[2, 3, 5, 7, 11, 13, 17, 19, 23, 29]\n"
     ]
    }
   ],
   "source": [
    "primos = []\n",
    "for num in range(2,31): \n",
    "    eh_primo = True \n",
    "    i = 2 \n",
    "    while i <= num // 2: \n",
    "        if num % i == 0: \n",
    "            eh_primo = False \n",
    "            break \n",
    "        i+=1\n",
    "    if eh_primo: \n",
    "        primos.append(num)\n",
    "print(primos )"
   ]
  },
  {
   "cell_type": "code",
   "execution_count": 21,
   "id": "394b53d1",
   "metadata": {},
   "outputs": [
    {
     "name": "stdout",
     "output_type": "stream",
     "text": [
      "2 é um número primo\n",
      "3 é um número primo\n",
      "5 é um número primo\n",
      "7 é um número primo\n",
      "11 é um número primo\n",
      "13 é um número primo\n",
      "17 é um número primo\n",
      "19 é um número primo\n",
      "23 é um número primo\n",
      "29 é um número primo\n"
     ]
    }
   ],
   "source": [
    "for i in range(2,31): \n",
    "    j = 2 \n",
    "    valor = 0 \n",
    "    while j < i: \n",
    "        if i % j == 0: \n",
    "            valor = 1 \n",
    "            j = j + 1\n",
    "        else: \n",
    "            j = j + 1 \n",
    "    if valor == 0: \n",
    "        print(str(i) + \" é um número primo\")\n",
    "        valor = 0\n",
    "    else: \n",
    "        valor = 0"
   ]
  },
  {
   "cell_type": "code",
   "execution_count": 22,
   "id": "147a5bb8",
   "metadata": {},
   "outputs": [
    {
     "name": "stdout",
     "output_type": "stream",
     "text": [
      "1\n",
      "2\n",
      "3\n",
      "4\n",
      "5\n",
      "6\n",
      "7\n",
      "8\n",
      "9\n",
      "10\n"
     ]
    }
   ],
   "source": [
    "for i in range (1,11): \n",
    "    print(i)"
   ]
  },
  {
   "cell_type": "code",
   "execution_count": 23,
   "id": "f6251ee7",
   "metadata": {},
   "outputs": [
    {
     "name": "stdout",
     "output_type": "stream",
     "text": [
      "50\n",
      "52\n",
      "54\n",
      "56\n",
      "58\n",
      "60\n",
      "62\n",
      "64\n",
      "66\n",
      "68\n",
      "70\n",
      "72\n",
      "74\n",
      "76\n",
      "78\n",
      "80\n",
      "82\n",
      "84\n",
      "86\n",
      "88\n",
      "90\n",
      "92\n",
      "94\n",
      "96\n",
      "98\n",
      "100\n"
     ]
    }
   ],
   "source": [
    "for i in range (50,101,2): \n",
    "    print(i)"
   ]
  },
  {
   "cell_type": "code",
   "execution_count": 24,
   "id": "b54f8b5b",
   "metadata": {},
   "outputs": [
    {
     "name": "stdout",
     "output_type": "stream",
     "text": [
      "0\n",
      "-2\n",
      "-4\n",
      "-6\n",
      "-8\n",
      "-10\n",
      "-12\n",
      "-14\n",
      "-16\n",
      "-18\n"
     ]
    }
   ],
   "source": [
    "for i in range (0,-20,-2): \n",
    "    print(i)"
   ]
  },
  {
   "cell_type": "code",
   "execution_count": 29,
   "id": "01eca6e1",
   "metadata": {},
   "outputs": [
    {
     "name": "stdout",
     "output_type": "stream",
     "text": [
      "Abacaxi\n",
      "Banana\n",
      "Morango\n",
      "Uva\n"
     ]
    }
   ],
   "source": [
    "lísta = [ \"Abacaxi\", \"Banana\", \"Morango\", \"Uva\"]\n",
    "lísta_tamanho = len(lísta)\n",
    "for i in range(0, lísta_tamanho):\n",
    "    print(lísta[i])"
   ]
  },
  {
   "cell_type": "code",
   "execution_count": 30,
   "id": "2053c2ad",
   "metadata": {},
   "outputs": [],
   "source": [
    "lísta = [100,-2,12,65,0]"
   ]
  },
  {
   "cell_type": "code",
   "execution_count": 31,
   "id": "bba7d09e",
   "metadata": {},
   "outputs": [
    {
     "data": {
      "text/plain": [
       "list"
      ]
     },
     "execution_count": 31,
     "metadata": {},
     "output_type": "execute_result"
    }
   ],
   "source": [
    "type(lísta)"
   ]
  },
  {
   "cell_type": "code",
   "execution_count": 32,
   "id": "e65d9bb1",
   "metadata": {},
   "outputs": [],
   "source": [
    "lísta.append(100)"
   ]
  },
  {
   "cell_type": "code",
   "execution_count": 33,
   "id": "e7ca0d1b",
   "metadata": {},
   "outputs": [
    {
     "name": "stdout",
     "output_type": "stream",
     "text": [
      "[100, -2, 12, 65, 0, 100]\n"
     ]
    }
   ],
   "source": [
    "print(lísta)"
   ]
  },
  {
   "cell_type": "code",
   "execution_count": 34,
   "id": "65ccd582",
   "metadata": {},
   "outputs": [
    {
     "data": {
      "text/plain": [
       "2"
      ]
     },
     "execution_count": 34,
     "metadata": {},
     "output_type": "execute_result"
    }
   ],
   "source": [
    "lísta.count(100)"
   ]
  },
  {
   "cell_type": "code",
   "execution_count": 35,
   "id": "0986cdbe",
   "metadata": {},
   "outputs": [
    {
     "name": "stdout",
     "output_type": "stream",
     "text": [
      "Help on built-in function count:\n",
      "\n",
      "count(value, /) method of builtins.list instance\n",
      "    Return number of occurrences of value.\n",
      "\n"
     ]
    }
   ],
   "source": [
    "help(lísta.count)"
   ]
  },
  {
   "cell_type": "code",
   "execution_count": 36,
   "id": "46bdd29a",
   "metadata": {},
   "outputs": [
    {
     "data": {
      "text/plain": [
       "['__add__',\n",
       " '__class__',\n",
       " '__class_getitem__',\n",
       " '__contains__',\n",
       " '__delattr__',\n",
       " '__delitem__',\n",
       " '__dir__',\n",
       " '__doc__',\n",
       " '__eq__',\n",
       " '__format__',\n",
       " '__ge__',\n",
       " '__getattribute__',\n",
       " '__getitem__',\n",
       " '__gt__',\n",
       " '__hash__',\n",
       " '__iadd__',\n",
       " '__imul__',\n",
       " '__init__',\n",
       " '__init_subclass__',\n",
       " '__iter__',\n",
       " '__le__',\n",
       " '__len__',\n",
       " '__lt__',\n",
       " '__mul__',\n",
       " '__ne__',\n",
       " '__new__',\n",
       " '__reduce__',\n",
       " '__reduce_ex__',\n",
       " '__repr__',\n",
       " '__reversed__',\n",
       " '__rmul__',\n",
       " '__setattr__',\n",
       " '__setitem__',\n",
       " '__sizeof__',\n",
       " '__str__',\n",
       " '__subclasshook__',\n",
       " 'append',\n",
       " 'clear',\n",
       " 'copy',\n",
       " 'count',\n",
       " 'extend',\n",
       " 'index',\n",
       " 'insert',\n",
       " 'pop',\n",
       " 'remove',\n",
       " 'reverse',\n",
       " 'sort']"
      ]
     },
     "execution_count": 36,
     "metadata": {},
     "output_type": "execute_result"
    }
   ],
   "source": [
    "dir(lísta)"
   ]
  },
  {
   "cell_type": "code",
   "execution_count": 37,
   "id": "9065a313",
   "metadata": {},
   "outputs": [],
   "source": [
    "frase = \"Isso é uma string\""
   ]
  },
  {
   "cell_type": "code",
   "execution_count": 38,
   "id": "8b24d5ed",
   "metadata": {},
   "outputs": [
    {
     "data": {
      "text/plain": [
       "str"
      ]
     },
     "execution_count": 38,
     "metadata": {},
     "output_type": "execute_result"
    }
   ],
   "source": [
    "type(frase)"
   ]
  },
  {
   "cell_type": "code",
   "execution_count": 39,
   "id": "488b2ba4",
   "metadata": {},
   "outputs": [
    {
     "data": {
      "text/plain": [
       "'Isso é uma string'"
      ]
     },
     "execution_count": 39,
     "metadata": {},
     "output_type": "execute_result"
    }
   ],
   "source": [
    "frase"
   ]
  },
  {
   "cell_type": "code",
   "execution_count": 40,
   "id": "9034e29f",
   "metadata": {},
   "outputs": [
    {
     "name": "stdout",
     "output_type": "stream",
     "text": [
      "['Isso', 'é', 'uma', 'string']\n"
     ]
    }
   ],
   "source": [
    "print(frase.split())"
   ]
  },
  {
   "cell_type": "code",
   "execution_count": 41,
   "id": "d991314b",
   "metadata": {},
   "outputs": [
    {
     "name": "stdout",
     "output_type": "stream",
     "text": [
      "Hello World\n"
     ]
    }
   ],
   "source": [
    "print (\"Hello World\")"
   ]
  },
  {
   "cell_type": "code",
   "execution_count": 42,
   "id": "5e69a66a",
   "metadata": {},
   "outputs": [],
   "source": [
    "def primeiraFunc(): \n",
    "    print(\"Hello World\")"
   ]
  },
  {
   "cell_type": "code",
   "execution_count": 44,
   "id": "72b6304b",
   "metadata": {},
   "outputs": [
    {
     "name": "stdout",
     "output_type": "stream",
     "text": [
      "Hello World\n"
     ]
    }
   ],
   "source": [
    "primeiraFunc()"
   ]
  },
  {
   "cell_type": "code",
   "execution_count": 45,
   "id": "019106f1",
   "metadata": {},
   "outputs": [],
   "source": [
    "def primeiraFunc(): \n",
    "    nome = \"Bob\"\n",
    "    print(\"Hello %s\" %(nome))"
   ]
  },
  {
   "cell_type": "code",
   "execution_count": 46,
   "id": "805db8b3",
   "metadata": {},
   "outputs": [
    {
     "name": "stdout",
     "output_type": "stream",
     "text": [
      "Hello Bob\n"
     ]
    }
   ],
   "source": [
    "primeiraFunc()"
   ]
  },
  {
   "cell_type": "code",
   "execution_count": 51,
   "id": "36cf9870",
   "metadata": {},
   "outputs": [],
   "source": [
    "def segundaFunc(nome): \n",
    "    print(\"Hello %s\" %(nome))"
   ]
  },
  {
   "cell_type": "code",
   "execution_count": 52,
   "id": "e5c88de3",
   "metadata": {},
   "outputs": [
    {
     "name": "stdout",
     "output_type": "stream",
     "text": [
      "Hello Aluno\n"
     ]
    }
   ],
   "source": [
    "segundaFunc(\"Aluno\")"
   ]
  },
  {
   "cell_type": "code",
   "execution_count": 53,
   "id": "1a0e5301",
   "metadata": {},
   "outputs": [
    {
     "ename": "TypeError",
     "evalue": "segundaFunc() missing 1 required positional argument: 'nome'",
     "output_type": "error",
     "traceback": [
      "\u001b[1;31m---------------------------------------------------------------------------\u001b[0m",
      "\u001b[1;31mTypeError\u001b[0m                                 Traceback (most recent call last)",
      "\u001b[1;32m~\\AppData\\Local\\Temp\\ipykernel_14660\\494153477.py\u001b[0m in \u001b[0;36m<module>\u001b[1;34m\u001b[0m\n\u001b[1;32m----> 1\u001b[1;33m \u001b[0msegundaFunc\u001b[0m\u001b[1;33m(\u001b[0m\u001b[1;33m)\u001b[0m\u001b[1;33m\u001b[0m\u001b[1;33m\u001b[0m\u001b[0m\n\u001b[0m",
      "\u001b[1;31mTypeError\u001b[0m: segundaFunc() missing 1 required positional argument: 'nome'"
     ]
    }
   ],
   "source": [
    "segundaFunc()"
   ]
  },
  {
   "cell_type": "code",
   "execution_count": 54,
   "id": "fb59e1db",
   "metadata": {},
   "outputs": [],
   "source": [
    "def imprimaNum():\n",
    "    for i in range(0,5): \n",
    "        print(\"Número\" + str(i))"
   ]
  },
  {
   "cell_type": "code",
   "execution_count": 55,
   "id": "5dc3366f",
   "metadata": {},
   "outputs": [
    {
     "name": "stdout",
     "output_type": "stream",
     "text": [
      "Número0\n",
      "Número1\n",
      "Número2\n",
      "Número3\n",
      "Número4\n"
     ]
    }
   ],
   "source": [
    "imprimaNum()"
   ]
  },
  {
   "cell_type": "code",
   "execution_count": 56,
   "id": "f384b620",
   "metadata": {},
   "outputs": [],
   "source": [
    "def addNum(firstnum, secondnum):\n",
    "    print(\"Primeiro número: \" + str(firstnum))\n",
    "    print(\"Segundo número: \" + str(secondnum))\n",
    "    print(\"Soma: \", firstnum + secondnum)"
   ]
  },
  {
   "cell_type": "code",
   "execution_count": 57,
   "id": "b6c44a8a",
   "metadata": {},
   "outputs": [
    {
     "name": "stdout",
     "output_type": "stream",
     "text": [
      "Primeiro número: 4\n",
      "Segundo número: 7\n",
      "Soma:  11\n"
     ]
    }
   ],
   "source": [
    "addNum(4,7)"
   ]
  },
  {
   "cell_type": "code",
   "execution_count": 58,
   "id": "d2261a84",
   "metadata": {},
   "outputs": [
    {
     "name": "stdout",
     "output_type": "stream",
     "text": [
      "Primeiro número: 45\n",
      "Segundo número: 3\n",
      "Soma:  48\n"
     ]
    }
   ],
   "source": [
    "addNum(45,3)"
   ]
  },
  {
   "cell_type": "code",
   "execution_count": 59,
   "id": "f61d0bf5",
   "metadata": {},
   "outputs": [],
   "source": [
    "def printVarinfo( arg1, *vartuple):\n",
    "    print(\"O parâmetro passado foi: \", arg1)\n",
    "    for item in vartuple: \n",
    "        print(\"O parâmetro passado foi: \", item)\n",
    "    return;"
   ]
  },
  {
   "cell_type": "code",
   "execution_count": 60,
   "id": "ba6d69b2",
   "metadata": {},
   "outputs": [
    {
     "name": "stdout",
     "output_type": "stream",
     "text": [
      "O parâmetro passado foi:  10\n"
     ]
    }
   ],
   "source": [
    "printVarinfo(10)"
   ]
  },
  {
   "cell_type": "code",
   "execution_count": 61,
   "id": "ba859b58",
   "metadata": {},
   "outputs": [
    {
     "name": "stdout",
     "output_type": "stream",
     "text": [
      "O parâmetro passado foi:  Chocolate\n",
      "O parâmetro passado foi:  Morango\n"
     ]
    }
   ],
   "source": [
    "printVarinfo(\"Chocolate\", \"Morango\")"
   ]
  },
  {
   "cell_type": "code",
   "execution_count": 62,
   "id": "3a7bdf66",
   "metadata": {},
   "outputs": [
    {
     "name": "stdout",
     "output_type": "stream",
     "text": [
      "O parâmetro passado foi:  Data\n",
      "O parâmetro passado foi:  Science\n",
      "O parâmetro passado foi:  Academy\n"
     ]
    }
   ],
   "source": [
    "printVarinfo(\"Data\", \"Science\", \"Academy\")"
   ]
  },
  {
   "cell_type": "code",
   "execution_count": 5,
   "id": "59bcb3ab",
   "metadata": {},
   "outputs": [],
   "source": [
    "var_global = 10\n",
    "def multiplica_numeros(num1, num2): \n",
    "    var_global = num1 * num2\n",
    "    print(var_global)"
   ]
  },
  {
   "cell_type": "code",
   "execution_count": 6,
   "id": "dc6ec3ad",
   "metadata": {},
   "outputs": [
    {
     "name": "stdout",
     "output_type": "stream",
     "text": [
      "125\n"
     ]
    }
   ],
   "source": [
    "multiplica_numeros(5,25)"
   ]
  },
  {
   "cell_type": "code",
   "execution_count": 7,
   "id": "186eed0b",
   "metadata": {},
   "outputs": [
    {
     "name": "stdout",
     "output_type": "stream",
     "text": [
      "10\n"
     ]
    }
   ],
   "source": [
    "print(var_global)"
   ]
  },
  {
   "cell_type": "code",
   "execution_count": 8,
   "id": "c6e9b641",
   "metadata": {},
   "outputs": [],
   "source": [
    "var_global = 10\n",
    "def multipica_numeros(num1, num2): \n",
    "    var_local = num1 * num2\n",
    "    print(var_local)"
   ]
  },
  {
   "cell_type": "code",
   "execution_count": 10,
   "id": "ae9a4036",
   "metadata": {},
   "outputs": [
    {
     "name": "stdout",
     "output_type": "stream",
     "text": [
      "125\n"
     ]
    }
   ],
   "source": [
    "multiplica_numeros(5,25)"
   ]
  },
  {
   "cell_type": "code",
   "execution_count": null,
   "id": "53d577b2",
   "metadata": {},
   "outputs": [],
   "source": [
    "print(var_local)"
   ]
  },
  {
   "cell_type": "code",
   "execution_count": 12,
   "id": "67ace4d2",
   "metadata": {},
   "outputs": [
    {
     "data": {
      "text/plain": [
       "56"
      ]
     },
     "execution_count": 12,
     "metadata": {},
     "output_type": "execute_result"
    }
   ],
   "source": [
    "abs(-56)"
   ]
  },
  {
   "cell_type": "code",
   "execution_count": 13,
   "id": "fa4a9222",
   "metadata": {},
   "outputs": [
    {
     "data": {
      "text/plain": [
       "23"
      ]
     },
     "execution_count": 13,
     "metadata": {},
     "output_type": "execute_result"
    }
   ],
   "source": [
    "abs(23)"
   ]
  },
  {
   "cell_type": "code",
   "execution_count": 14,
   "id": "766c075b",
   "metadata": {},
   "outputs": [
    {
     "data": {
      "text/plain": [
       "False"
      ]
     },
     "execution_count": 14,
     "metadata": {},
     "output_type": "execute_result"
    }
   ],
   "source": [
    "bool(0)"
   ]
  },
  {
   "cell_type": "code",
   "execution_count": 15,
   "id": "a666fc2d",
   "metadata": {},
   "outputs": [
    {
     "data": {
      "text/plain": [
       "True"
      ]
     },
     "execution_count": 15,
     "metadata": {},
     "output_type": "execute_result"
    }
   ],
   "source": [
    "bool(1)"
   ]
  },
  {
   "cell_type": "code",
   "execution_count": 16,
   "id": "2596a415",
   "metadata": {},
   "outputs": [
    {
     "data": {
      "text/plain": [
       "4"
      ]
     },
     "execution_count": 16,
     "metadata": {},
     "output_type": "execute_result"
    }
   ],
   "source": [
    "int(4.3)"
   ]
  },
  {
   "cell_type": "code",
   "execution_count": 17,
   "id": "761d3cea",
   "metadata": {},
   "outputs": [
    {
     "data": {
      "text/plain": [
       "'13'"
      ]
     },
     "execution_count": 17,
     "metadata": {},
     "output_type": "execute_result"
    }
   ],
   "source": [
    "str(13)"
   ]
  },
  {
   "cell_type": "code",
   "execution_count": 18,
   "id": "49a89563",
   "metadata": {},
   "outputs": [
    {
     "data": {
      "text/plain": [
       "5.0"
      ]
     },
     "execution_count": 18,
     "metadata": {},
     "output_type": "execute_result"
    }
   ],
   "source": [
    "float(5)"
   ]
  },
  {
   "cell_type": "code",
   "execution_count": 20,
   "id": "c747b2db",
   "metadata": {},
   "outputs": [
    {
     "name": "stdout",
     "output_type": "stream",
     "text": [
      "Digite sua idade: 14\n",
      "Você pode acessar Redes Sociais sem supervisão\n"
     ]
    }
   ],
   "source": [
    "idade = int(input (\"Digite sua idade: \"))\n",
    "if idade > 13: \n",
    "    print(\"Você pode acessar Redes Sociais sem supervisão\")\n",
    "else: \n",
    "    print(\"Seus pais não deveriam deixar você acessar Redes Sociais sem supervisão\")"
   ]
  },
  {
   "cell_type": "code",
   "execution_count": 21,
   "id": "4181b579",
   "metadata": {},
   "outputs": [
    {
     "data": {
      "text/plain": [
       "26"
      ]
     },
     "execution_count": 21,
     "metadata": {},
     "output_type": "execute_result"
    }
   ],
   "source": [
    "int(\"26\")"
   ]
  },
  {
   "cell_type": "code",
   "execution_count": 22,
   "id": "01d5c9ef",
   "metadata": {},
   "outputs": [
    {
     "data": {
      "text/plain": [
       "123.345"
      ]
     },
     "execution_count": 22,
     "metadata": {},
     "output_type": "execute_result"
    }
   ],
   "source": [
    "float(\"123.345\")"
   ]
  },
  {
   "cell_type": "code",
   "execution_count": 23,
   "id": "80ab090a",
   "metadata": {},
   "outputs": [
    {
     "data": {
      "text/plain": [
       "'14'"
      ]
     },
     "execution_count": 23,
     "metadata": {},
     "output_type": "execute_result"
    }
   ],
   "source": [
    "str(14)"
   ]
  },
  {
   "cell_type": "code",
   "execution_count": 24,
   "id": "fbf85afd",
   "metadata": {},
   "outputs": [
    {
     "data": {
      "text/plain": [
       "4"
      ]
     },
     "execution_count": 24,
     "metadata": {},
     "output_type": "execute_result"
    }
   ],
   "source": [
    "len([23,34,45,46])"
   ]
  },
  {
   "cell_type": "code",
   "execution_count": 25,
   "id": "96bf94d0",
   "metadata": {},
   "outputs": [],
   "source": [
    "array = [1,2,3]"
   ]
  },
  {
   "cell_type": "code",
   "execution_count": 26,
   "id": "fcba6cfc",
   "metadata": {},
   "outputs": [
    {
     "data": {
      "text/plain": [
       "3"
      ]
     },
     "execution_count": 26,
     "metadata": {},
     "output_type": "execute_result"
    }
   ],
   "source": [
    "max(array)"
   ]
  },
  {
   "cell_type": "code",
   "execution_count": 27,
   "id": "459e22bb",
   "metadata": {},
   "outputs": [
    {
     "data": {
      "text/plain": [
       "1"
      ]
     },
     "execution_count": 27,
     "metadata": {},
     "output_type": "execute_result"
    }
   ],
   "source": [
    "min(array)"
   ]
  },
  {
   "cell_type": "code",
   "execution_count": 28,
   "id": "4dd1672c",
   "metadata": {},
   "outputs": [],
   "source": [
    "líst1 = [16,23,44,75]"
   ]
  },
  {
   "cell_type": "code",
   "execution_count": 29,
   "id": "225dad03",
   "metadata": {},
   "outputs": [
    {
     "data": {
      "text/plain": [
       "158"
      ]
     },
     "execution_count": 29,
     "metadata": {},
     "output_type": "execute_result"
    }
   ],
   "source": [
    "sum(líst1)"
   ]
  },
  {
   "cell_type": "code",
   "execution_count": 39,
   "id": "9bd5c2bc",
   "metadata": {},
   "outputs": [],
   "source": [
    "import math\n",
    "def numPrimo (num): \n",
    "    if (num / 2) == 0 and num > 2: \n",
    "        return \"Este número não é primo\"\n",
    "    for i in range (3, int(math.sqrt(num)) + 1, 2): \n",
    "        if (num / 1) == 0: \n",
    "            return \"Este número não é primo\"\n",
    "    return \"Este número é primo\""
   ]
  },
  {
   "cell_type": "code",
   "execution_count": 40,
   "id": "d41a9807",
   "metadata": {},
   "outputs": [
    {
     "data": {
      "text/plain": [
       "'Este número é primo'"
      ]
     },
     "execution_count": 40,
     "metadata": {},
     "output_type": "execute_result"
    }
   ],
   "source": [
    "numPrimo(541)"
   ]
  },
  {
   "cell_type": "code",
   "execution_count": 41,
   "id": "22a0725f",
   "metadata": {},
   "outputs": [
    {
     "data": {
      "text/plain": [
       "'Este número é primo'"
      ]
     },
     "execution_count": 41,
     "metadata": {},
     "output_type": "execute_result"
    }
   ],
   "source": [
    "numPrimo(2)"
   ]
  },
  {
   "cell_type": "code",
   "execution_count": 42,
   "id": "e19fb886",
   "metadata": {},
   "outputs": [],
   "source": [
    "caixa_baixa = \"Este Texto Deveria Estar Todo Em LowerCase\""
   ]
  },
  {
   "cell_type": "code",
   "execution_count": 48,
   "id": "bd3eb1e7",
   "metadata": {},
   "outputs": [],
   "source": [
    "def lowercase (text): \n",
    "    return text.lower()"
   ]
  },
  {
   "cell_type": "code",
   "execution_count": 49,
   "id": "f1649e39",
   "metadata": {},
   "outputs": [],
   "source": [
    "lowercased_string = lowercase(caixa_baixa)"
   ]
  },
  {
   "cell_type": "code",
   "execution_count": 50,
   "id": "f3e06a1e",
   "metadata": {},
   "outputs": [
    {
     "data": {
      "text/plain": [
       "'este texto deveria estar todo em lovercase'"
      ]
     },
     "execution_count": 50,
     "metadata": {},
     "output_type": "execute_result"
    }
   ],
   "source": [
    "lowercased_string "
   ]
  },
  {
   "cell_type": "code",
   "execution_count": 51,
   "id": "0b0852e6",
   "metadata": {},
   "outputs": [],
   "source": [
    "def split_string_palavras(text): \n",
    "    return text.split(\" \")"
   ]
  },
  {
   "cell_type": "code",
   "execution_count": 52,
   "id": "52be0818",
   "metadata": {},
   "outputs": [],
   "source": [
    "texto = \"Esta função será bastante útil para separar grandes volumes de dados\""
   ]
  },
  {
   "cell_type": "code",
   "execution_count": 54,
   "id": "be4dcc43",
   "metadata": {},
   "outputs": [
    {
     "name": "stdout",
     "output_type": "stream",
     "text": [
      "['Esta', 'função', 'será', 'bastante', 'útil', 'para', 'separar', 'grandes', 'volumes', 'de', 'dados']\n"
     ]
    }
   ],
   "source": [
    "print(split_string_palavras(texto))"
   ]
  },
  {
   "cell_type": "code",
   "execution_count": 55,
   "id": "4b82b0a2",
   "metadata": {},
   "outputs": [],
   "source": [
    "token = split_string_palavras(texto)"
   ]
  },
  {
   "cell_type": "code",
   "execution_count": 56,
   "id": "3f987478",
   "metadata": {},
   "outputs": [
    {
     "data": {
      "text/plain": [
       "['Esta',\n",
       " 'função',\n",
       " 'será',\n",
       " 'bastante',\n",
       " 'útil',\n",
       " 'para',\n",
       " 'separar',\n",
       " 'grandes',\n",
       " 'volumes',\n",
       " 'de',\n",
       " 'dados']"
      ]
     },
     "execution_count": 56,
     "metadata": {},
     "output_type": "execute_result"
    }
   ],
   "source": [
    "token"
   ]
  },
  {
   "cell_type": "code",
   "execution_count": 57,
   "id": "23709076",
   "metadata": {},
   "outputs": [],
   "source": [
    "def split_string_letras(text): \n",
    "    texto = text.upper()\n",
    "    for letra in texto: \n",
    "        print(letra)"
   ]
  },
  {
   "cell_type": "code",
   "execution_count": 59,
   "id": "410f1a7b",
   "metadata": {},
   "outputs": [
    {
     "name": "stdout",
     "output_type": "stream",
     "text": [
      "E\n",
      "S\n",
      "T\n",
      "A\n",
      " \n",
      "F\n",
      "U\n",
      "N\n",
      "Ç\n",
      "Ã\n",
      "O\n",
      " \n",
      "S\n",
      "E\n",
      "R\n",
      "Á\n",
      " \n",
      "B\n",
      "A\n",
      "S\n",
      "T\n",
      "A\n",
      "N\n",
      "T\n",
      "E\n",
      " \n",
      "Ú\n",
      "T\n",
      "I\n",
      "L\n",
      " \n",
      "P\n",
      "A\n",
      "R\n",
      "A\n",
      " \n",
      "S\n",
      "E\n",
      "P\n",
      "A\n",
      "R\n",
      "A\n",
      "R\n",
      " \n",
      "G\n",
      "R\n",
      "A\n",
      "N\n",
      "D\n",
      "E\n",
      "S\n",
      " \n",
      "V\n",
      "O\n",
      "L\n",
      "U\n",
      "M\n",
      "E\n",
      "S\n",
      " \n",
      "D\n",
      "E\n",
      " \n",
      "D\n",
      "A\n",
      "D\n",
      "O\n",
      "S\n"
     ]
    }
   ],
   "source": [
    "split_string_letras(texto)"
   ]
  },
  {
   "cell_type": "code",
   "execution_count": 62,
   "id": "355635b3",
   "metadata": {},
   "outputs": [],
   "source": [
    "def potencia(num): \n",
    "    resultado = num ** 2\n",
    "    return resultado"
   ]
  },
  {
   "cell_type": "code",
   "execution_count": 63,
   "id": "796ac806",
   "metadata": {},
   "outputs": [
    {
     "data": {
      "text/plain": [
       "25"
      ]
     },
     "execution_count": 63,
     "metadata": {},
     "output_type": "execute_result"
    }
   ],
   "source": [
    "potencia(5)"
   ]
  },
  {
   "cell_type": "code",
   "execution_count": 64,
   "id": "ebaf2647",
   "metadata": {},
   "outputs": [],
   "source": [
    "def potencia(num): \n",
    "    return num ** 2"
   ]
  },
  {
   "cell_type": "code",
   "execution_count": 65,
   "id": "75d05439",
   "metadata": {},
   "outputs": [
    {
     "data": {
      "text/plain": [
       "25"
      ]
     },
     "execution_count": 65,
     "metadata": {},
     "output_type": "execute_result"
    }
   ],
   "source": [
    "potencia(5)"
   ]
  },
  {
   "cell_type": "code",
   "execution_count": 66,
   "id": "a5c5aeb1",
   "metadata": {},
   "outputs": [],
   "source": [
    "potencia = lambda num: num ** 2"
   ]
  },
  {
   "cell_type": "code",
   "execution_count": 67,
   "id": "49d39979",
   "metadata": {},
   "outputs": [
    {
     "data": {
      "text/plain": [
       "25"
      ]
     },
     "execution_count": 67,
     "metadata": {},
     "output_type": "execute_result"
    }
   ],
   "source": [
    "potencia (5)"
   ]
  },
  {
   "cell_type": "code",
   "execution_count": 68,
   "id": "dad7d77a",
   "metadata": {},
   "outputs": [],
   "source": [
    "Par = lambda x: x%2==0"
   ]
  },
  {
   "cell_type": "code",
   "execution_count": 69,
   "id": "a5438d20",
   "metadata": {},
   "outputs": [
    {
     "data": {
      "text/plain": [
       "False"
      ]
     },
     "execution_count": 69,
     "metadata": {},
     "output_type": "execute_result"
    }
   ],
   "source": [
    "Par(3)"
   ]
  },
  {
   "cell_type": "code",
   "execution_count": 70,
   "id": "8f8555cd",
   "metadata": {},
   "outputs": [
    {
     "data": {
      "text/plain": [
       "True"
      ]
     },
     "execution_count": 70,
     "metadata": {},
     "output_type": "execute_result"
    }
   ],
   "source": [
    "Par(4)"
   ]
  },
  {
   "cell_type": "code",
   "execution_count": 71,
   "id": "beebc86f",
   "metadata": {},
   "outputs": [],
   "source": [
    "first = lambda s: s[0]"
   ]
  },
  {
   "cell_type": "code",
   "execution_count": 72,
   "id": "344f2837",
   "metadata": {},
   "outputs": [
    {
     "data": {
      "text/plain": [
       "'P'"
      ]
     },
     "execution_count": 72,
     "metadata": {},
     "output_type": "execute_result"
    }
   ],
   "source": [
    "first(\"Python\")"
   ]
  },
  {
   "cell_type": "code",
   "execution_count": 73,
   "id": "87d37528",
   "metadata": {},
   "outputs": [],
   "source": [
    "reverso = lambda s: s[:: -1]"
   ]
  },
  {
   "cell_type": "code",
   "execution_count": 74,
   "id": "e173f968",
   "metadata": {},
   "outputs": [
    {
     "data": {
      "text/plain": [
       "'nohtyP'"
      ]
     },
     "execution_count": 74,
     "metadata": {},
     "output_type": "execute_result"
    }
   ],
   "source": [
    "reverso(\"Python\")"
   ]
  },
  {
   "cell_type": "code",
   "execution_count": 76,
   "id": "7b53216d",
   "metadata": {},
   "outputs": [],
   "source": [
    "addNum = lambda x,y : x+y"
   ]
  },
  {
   "cell_type": "code",
   "execution_count": 77,
   "id": "a3636c7e",
   "metadata": {},
   "outputs": [
    {
     "data": {
      "text/plain": [
       "5"
      ]
     },
     "execution_count": 77,
     "metadata": {},
     "output_type": "execute_result"
    }
   ],
   "source": [
    "addNum(2,3)"
   ]
  },
  {
   "cell_type": "code",
   "execution_count": 78,
   "id": "043a8ccb",
   "metadata": {},
   "outputs": [
    {
     "data": {
      "text/plain": [
       "[0, 1, 2, 3, 4, 5, 6, 7, 8, 9]"
      ]
     },
     "execution_count": 78,
     "metadata": {},
     "output_type": "execute_result"
    }
   ],
   "source": [
    "[x for x in range(10)]"
   ]
  },
  {
   "cell_type": "code",
   "execution_count": 79,
   "id": "761e9f31",
   "metadata": {},
   "outputs": [],
   "source": [
    "lísta_numeros = [x for x in range(10)]"
   ]
  },
  {
   "cell_type": "code",
   "execution_count": 80,
   "id": "8c23a402",
   "metadata": {},
   "outputs": [
    {
     "name": "stdout",
     "output_type": "stream",
     "text": [
      "[0, 1, 2, 3, 4, 5, 6, 7, 8, 9]\n"
     ]
    }
   ],
   "source": [
    "print(lísta_numeros)"
   ]
  },
  {
   "cell_type": "code",
   "execution_count": 81,
   "id": "e7b73f28",
   "metadata": {},
   "outputs": [
    {
     "name": "stdout",
     "output_type": "stream",
     "text": [
      "[0, 1, 2, 3, 4]\n"
     ]
    }
   ],
   "source": [
    "lísta_numeros = [x for x in range (10) if x < 5]\n",
    "print(lísta_numeros)"
   ]
  },
  {
   "cell_type": "code",
   "execution_count": 82,
   "id": "f1587266",
   "metadata": {},
   "outputs": [],
   "source": [
    "lísta_frutas = [\"banana\", \"abacate\", \"melancia\", \"cereja\", \"manga\"]\n",
    "nova_lísta = []"
   ]
  },
  {
   "cell_type": "code",
   "execution_count": 83,
   "id": "859ef296",
   "metadata": {},
   "outputs": [
    {
     "name": "stdout",
     "output_type": "stream",
     "text": [
      "['banana', 'melancia', 'manga']\n"
     ]
    }
   ],
   "source": [
    "for x in lísta_frutas: \n",
    "    if \"n\" in x: \n",
    "        nova_lísta.append(x)\n",
    "print(nova_lísta)"
   ]
  },
  {
   "cell_type": "code",
   "execution_count": 84,
   "id": "551880a3",
   "metadata": {},
   "outputs": [
    {
     "name": "stdout",
     "output_type": "stream",
     "text": [
      "['banana', 'melancia', 'manga']\n"
     ]
    }
   ],
   "source": [
    "nova_lísta = [x for x in lísta_frutas if \"n\" in x]\n",
    "print(nova_lísta)"
   ]
  },
  {
   "cell_type": "code",
   "execution_count": 86,
   "id": "c887bee9",
   "metadata": {},
   "outputs": [
    {
     "name": "stdout",
     "output_type": "stream",
     "text": [
      "{'Bob': 68, 'Michael': 84, 'Tico': 57, 'Ana': 93}\n"
     ]
    }
   ],
   "source": [
    "dict_alunos = {\"Bob\": 68, \"Michael\": 84, \"Tico\": 57, \"Ana\": 93}\n",
    "dict_alunos_status = {k:v for (k, v) in dict_alunos.items()}\n",
    "print(dict_alunos_status)"
   ]
  },
  {
   "cell_type": "code",
   "execution_count": 87,
   "id": "4373ec97",
   "metadata": {},
   "outputs": [
    {
     "name": "stdout",
     "output_type": "stream",
     "text": [
      "{'Bob': 'Reprovado', 'Michael': 'Aprovado', 'Tico': 'Reprovado', 'Ana': 'Aprovado'}\n"
     ]
    }
   ],
   "source": [
    "dict_alunos = {\"Bob\": 68, \"Michael\": 84, \"Tico\": 57, \"Ana\": 93}\n",
    "dict_alunos_status = {k: (\"Aprovado\" if v > 70 else \"Reprovado\") for (k, v) in dict_alunos.items()}\n",
    "print(dict_alunos_status)"
   ]
  },
  {
   "cell_type": "code",
   "execution_count": null,
   "id": "3bc29bf6",
   "metadata": {},
   "outputs": [],
   "source": []
  }
 ],
 "metadata": {
  "kernelspec": {
   "display_name": "Python 3 (ipykernel)",
   "language": "python",
   "name": "python3"
  },
  "language_info": {
   "codemirror_mode": {
    "name": "ipython",
    "version": 3
   },
   "file_extension": ".py",
   "mimetype": "text/x-python",
   "name": "python",
   "nbconvert_exporter": "python",
   "pygments_lexer": "ipython3",
   "version": "3.9.13"
  }
 },
 "nbformat": 4,
 "nbformat_minor": 5
}
