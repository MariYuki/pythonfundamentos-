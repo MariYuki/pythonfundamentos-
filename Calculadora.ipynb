{
 "cells": [
  {
   "cell_type": "code",
   "execution_count": 7,
   "id": "16f2fd1b",
   "metadata": {},
   "outputs": [],
   "source": [
    "def add(x,y): \n",
    "    return x + y"
   ]
  },
  {
   "cell_type": "code",
   "execution_count": 8,
   "id": "9a582642",
   "metadata": {},
   "outputs": [],
   "source": [
    "def subtract(x,y): \n",
    "    return x - y"
   ]
  },
  {
   "cell_type": "code",
   "execution_count": 10,
   "id": "d3d3616e",
   "metadata": {},
   "outputs": [],
   "source": [
    "def  divide(x,y): \n",
    "    return x / y "
   ]
  },
  {
   "cell_type": "code",
   "execution_count": 11,
   "id": "2cea0e82",
   "metadata": {},
   "outputs": [],
   "source": [
    "def multiply(x,y): \n",
    "    return x * y"
   ]
  },
  {
   "cell_type": "code",
   "execution_count": 12,
   "id": "6a946d4b",
   "metadata": {},
   "outputs": [
    {
     "name": "stdout",
     "output_type": "stream",
     "text": [
      "Escolha um número:\n",
      " 1-Soma\n",
      " 2-Subitração\n",
      " 3-Divisão\n",
      " 4-Multiplicação\n"
     ]
    }
   ],
   "source": [
    "print(\"Escolha um número:\\n 1-Soma\\n 2-Subitração\\n 3-Divisão\\n 4-Multiplicação\")"
   ]
  },
  {
   "cell_type": "code",
   "execution_count": 2,
   "id": "75166dd3",
   "metadata": {},
   "outputs": [
    {
     "name": "stdout",
     "output_type": "stream",
     "text": [
      "\n",
      " Selecione a operação(1,2,3,4):3\n"
     ]
    }
   ],
   "source": [
    "operação = input(\"\\n Selecione a operação(1,2,3,4):\")"
   ]
  },
  {
   "cell_type": "code",
   "execution_count": 3,
   "id": "be8cfa39",
   "metadata": {},
   "outputs": [
    {
     "name": "stdout",
     "output_type": "stream",
     "text": [
      "insira o primeiro número: 0\n"
     ]
    }
   ],
   "source": [
    "num1 = int(input(\"insira o primeiro número: \"))"
   ]
  },
  {
   "cell_type": "code",
   "execution_count": 4,
   "id": "64da699c",
   "metadata": {},
   "outputs": [
    {
     "name": "stdout",
     "output_type": "stream",
     "text": [
      "Insira o segundo número: 2\n"
     ]
    }
   ],
   "source": [
    "num2 = int(input(\"Insira o segundo número: \"))"
   ]
  },
  {
   "cell_type": "code",
   "execution_count": 18,
   "id": "819bd322",
   "metadata": {},
   "outputs": [
    {
     "name": "stdout",
     "output_type": "stream",
     "text": [
      "\n",
      "\n",
      "0.0 / 2.0 = 0.0\n"
     ]
    }
   ],
   "source": [
    "if operação == \"1\": \n",
    "    print(\"\\n\")\n",
    "    print(num1, \"+\", num2,\"=\", add(num1,num2)) \n",
    "elif operação == \"2\": \n",
    "    print(\"\\n\")\n",
    "    print(num1, \"-\", num2,\"=\", subtract(num1,num2)) \n",
    "elif operação == \"3\": \n",
    "    print(\"\\n\")\n",
    "    print(num1, \"/\", num2,\"=\", divide(num1,num2)) \n",
    "elif operação == \"4\": \n",
    "    print(\"\\n\")\n",
    "    print(num1, \"*\", num2,\"=\", multiply(num1,num2)) \n",
    "else: \n",
    "    print(\"\\n Digite outra opção\")"
   ]
  },
  {
   "cell_type": "code",
   "execution_count": null,
   "id": "28c35c96",
   "metadata": {},
   "outputs": [],
   "source": []
  }
 ],
 "metadata": {
  "kernelspec": {
   "display_name": "Python 3 (ipykernel)",
   "language": "python",
   "name": "python3"
  },
  "language_info": {
   "codemirror_mode": {
    "name": "ipython",
    "version": 3
   },
   "file_extension": ".py",
   "mimetype": "text/x-python",
   "name": "python",
   "nbconvert_exporter": "python",
   "pygments_lexer": "ipython3",
   "version": "3.9.13"
  }
 },
 "nbformat": 4,
 "nbformat_minor": 5
}
