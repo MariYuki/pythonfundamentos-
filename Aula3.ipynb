{
 "cells": [
  {
   "cell_type": "code",
   "execution_count": 1,
   "id": "7b7679b4",
   "metadata": {},
   "outputs": [],
   "source": [
    "lista = [6,7,8,3,10,19,4,1,0,61,31,16,17,82,29,34,43,21,11,39,56,67,12]"
   ]
  },
  {
   "cell_type": "code",
   "execution_count": 2,
   "id": "913e097f",
   "metadata": {},
   "outputs": [],
   "source": [
    "def bubble_sort(arr):\n",
    "    n = len(arr)\n",
    "    for i in range(n):\n",
    "        for j in range(0, n-i-1):\n",
    "            if arr[j]> arr [j+1]:\n",
    "                if arr[j]> arr [j+1]:\n",
    "                    arr[j], arr[j+1] = arr[j+1], arr[j]\n",
    "    return arr"
   ]
  },
  {
   "cell_type": "code",
   "execution_count": 3,
   "id": "0eed36b2",
   "metadata": {},
   "outputs": [
    {
     "name": "stdout",
     "output_type": "stream",
     "text": [
      "[0, 1, 3, 4, 6, 7, 8, 10, 11, 12, 16, 17, 19, 21, 29, 31, 34, 39, 43, 56, 61, 67, 82]\n"
     ]
    }
   ],
   "source": [
    "print(bubble_sort(lista))"
   ]
  },
  {
   "cell_type": "code",
   "execution_count": 4,
   "id": "6e83a7a2",
   "metadata": {},
   "outputs": [],
   "source": [
    "lista2 = [60,17,28,3,10,19,4,1,0,61,30,16,17,82,29,34,43,21,11,39,56,67,12]"
   ]
  },
  {
   "cell_type": "code",
   "execution_count": 5,
   "id": "ec76e17b",
   "metadata": {},
   "outputs": [
    {
     "name": "stdout",
     "output_type": "stream",
     "text": [
      "[0, 1, 3, 4, 10, 11, 12, 16, 17, 17, 19, 21, 28, 29, 30, 34, 39, 43, 56, 60, 61, 67, 82]\n"
     ]
    }
   ],
   "source": [
    "print(bubble_sort(lista2))"
   ]
  }
 ],
 "metadata": {
  "kernelspec": {
   "display_name": "Python 3 (ipykernel)",
   "language": "python",
   "name": "python3"
  },
  "language_info": {
   "codemirror_mode": {
    "name": "ipython",
    "version": 3
   },
   "file_extension": ".py",
   "mimetype": "text/x-python",
   "name": "python",
   "nbconvert_exporter": "python",
   "pygments_lexer": "ipython3",
   "version": "3.9.13"
  }
 },
 "nbformat": 4,
 "nbformat_minor": 5
}
