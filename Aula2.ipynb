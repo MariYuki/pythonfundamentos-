{
 "cells": [
  {
   "cell_type": "code",
   "execution_count": 2,
   "id": "81297496",
   "metadata": {},
   "outputs": [
    {
     "name": "stdout",
     "output_type": "stream",
     "text": [
      "\n",
      " Bem-vindo á calculadora\n"
     ]
    }
   ],
   "source": [
    "print(\"\\n Bem-vindo á calculadora\")"
   ]
  },
  {
   "cell_type": "code",
   "execution_count": 3,
   "id": "c17a7342",
   "metadata": {},
   "outputs": [
    {
     "name": "stdout",
     "output_type": "stream",
     "text": [
      "insira o primeiro número: 60\n"
     ]
    }
   ],
   "source": [
    "num1 = float(input(\"insira o primeiro número: \"))"
   ]
  },
  {
   "cell_type": "code",
   "execution_count": 4,
   "id": "5c72dfaa",
   "metadata": {},
   "outputs": [
    {
     "name": "stdout",
     "output_type": "stream",
     "text": [
      "Selecione o segundo numero: 60\n"
     ]
    }
   ],
   "source": [
    "num2 = float(input(\"Selecione o segundo numero: \"))"
   ]
  },
  {
   "cell_type": "code",
   "execution_count": 5,
   "id": "17ca5e3e",
   "metadata": {},
   "outputs": [
    {
     "name": "stdout",
     "output_type": "stream",
     "text": [
      "\n",
      " Selecione uma operação (+, -, *, /):+\n"
     ]
    }
   ],
   "source": [
    "operacao = input(\"\\n Selecione uma operação (+, -, *, /):\")"
   ]
  },
  {
   "cell_type": "code",
   "execution_count": 27,
   "id": "83e35e87",
   "metadata": {},
   "outputs": [
    {
     "name": "stdout",
     "output_type": "stream",
     "text": [
      " O resultado é:   120.0\n"
     ]
    }
   ],
   "source": [
    "if operacao == \"+\":\n",
    "    resultado = num1 + num2\n",
    "    print(\" O resultado é:  \", resultado)\n",
    "    \n",
    "elif operacao == \"-\":\n",
    "    resultado = num1 - num2\n",
    "    print(\" O resultado é:  \", resultado)\n",
    "        \n",
    "elif operacao == \"*\":\n",
    "    resultado = num1 * num2\n",
    "    print(\" O resultado é: \", resultado )\n",
    "    \n",
    "elif opercao == \"/\":\n",
    "    resultado = num1 / num2\n",
    "    print(\" O resultado é:  \", resultado) \n",
    "else: \n",
    "        print(\"Operção inválida.\")"
   ]
  }
 ],
 "metadata": {
  "kernelspec": {
   "display_name": "Python 3 (ipykernel)",
   "language": "python",
   "name": "python3"
  },
  "language_info": {
   "codemirror_mode": {
    "name": "ipython",
    "version": 3
   },
   "file_extension": ".py",
   "mimetype": "text/x-python",
   "name": "python",
   "nbconvert_exporter": "python",
   "pygments_lexer": "ipython3",
   "version": "3.9.13"
  }
 },
 "nbformat": 4,
 "nbformat_minor": 5
}
