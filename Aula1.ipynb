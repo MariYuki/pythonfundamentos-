{
 "cells": [
  {
   "cell_type": "code",
   "execution_count": 1,
   "id": "613273b2",
   "metadata": {},
   "outputs": [
    {
     "name": "stdout",
     "output_type": "stream",
     "text": [
      "\n",
      " Bem vindo ao calculador de Paramentros\n"
     ]
    }
   ],
   "source": [
    "print(\"\\n Bem vindo ao calculador de Paramentros\")"
   ]
  },
  {
   "cell_type": "code",
   "execution_count": 2,
   "id": "a809ae68",
   "metadata": {},
   "outputs": [
    {
     "name": "stdout",
     "output_type": "stream",
     "text": [
      "\n",
      " Insira o comprimento da base23\n"
     ]
    }
   ],
   "source": [
    "base = float( input(\"\\n Insira o comprimento da base\"))"
   ]
  },
  {
   "cell_type": "code",
   "execution_count": 3,
   "id": "151398ad",
   "metadata": {},
   "outputs": [
    {
     "name": "stdout",
     "output_type": "stream",
     "text": [
      "\n",
      " Insira o comprimento de altura44\n"
     ]
    }
   ],
   "source": [
    "altura = float(input(\"\\n Insira o comprimento de altura\"))"
   ]
  },
  {
   "cell_type": "code",
   "execution_count": 4,
   "id": "6540be88",
   "metadata": {},
   "outputs": [],
   "source": [
    "area = base * altura "
   ]
  },
  {
   "cell_type": "code",
   "execution_count": 5,
   "id": "285b8f2d",
   "metadata": {},
   "outputs": [
    {
     "name": "stdout",
     "output_type": "stream",
     "text": [
      "A área do paralelogramo é:  1012.0\n"
     ]
    }
   ],
   "source": [
    "print(\"A área do paralelogramo é: \", area)"
   ]
  },
  {
   "cell_type": "code",
   "execution_count": null,
   "id": "9e44eb65",
   "metadata": {},
   "outputs": [],
   "source": []
  }
 ],
 "metadata": {
  "kernelspec": {
   "display_name": "Python 3 (ipykernel)",
   "language": "python",
   "name": "python3"
  },
  "language_info": {
   "codemirror_mode": {
    "name": "ipython",
    "version": 3
   },
   "file_extension": ".py",
   "mimetype": "text/x-python",
   "name": "python",
   "nbconvert_exporter": "python",
   "pygments_lexer": "ipython3",
   "version": "3.9.13"
  }
 },
 "nbformat": 4,
 "nbformat_minor": 5
}
